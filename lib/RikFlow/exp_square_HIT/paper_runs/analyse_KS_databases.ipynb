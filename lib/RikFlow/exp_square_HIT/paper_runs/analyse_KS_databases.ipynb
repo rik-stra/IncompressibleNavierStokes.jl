{
 "cells": [
  {
   "cell_type": "code",
   "execution_count": 1,
   "metadata": {},
   "outputs": [],
   "source": [
    "using DataFrames\n",
    "using JLD2\n",
    "using CairoMakie\n",
    "using Printf"
   ]
  },
  {
   "cell_type": "code",
   "execution_count": 3,
   "metadata": {},
   "outputs": [],
   "source": [
    "df1 = load(@__DIR__()*\"/output/ks_dists_range_1_48.jld2\", \"ks_table\");\n",
    "df2 = load(@__DIR__()*\"/output/ks_dists_range_49_58.jld2\", \"ks_table\");\n",
    "df3 = load(@__DIR__()*\"/output/ks_dists_range_59_68.jld2\", \"ks_table\");\n",
    "df4 = load(@__DIR__()*\"/output/ks_dists_range_69_76.jld2\", \"ks_table\");\n",
    "df_big = vcat(df1, df2, df3, df4);"
   ]
  },
  {
   "cell_type": "code",
   "execution_count": 16,
   "metadata": {},
   "outputs": [],
   "source": [
    "df_t = load(@__DIR__()*\"/output/ks_dists_DDN_smag_lf.jld2\", \"ks_table\");\n",
    "for c in names(df_big)\n",
    "    if !(c in names(df_t))\n",
    "        df_t[!,c] = repeat([\"NA\"],size(df_t, 1))\n",
    "    end\n",
    "end"
   ]
  },
  {
   "cell_type": "code",
   "execution_count": 17,
   "metadata": {},
   "outputs": [],
   "source": [
    "df_big = vcat(df_big, df_t);"
   ]
  },
  {
   "cell_type": "code",
   "execution_count": 18,
   "metadata": {},
   "outputs": [],
   "source": []
  },
  {
   "cell_type": "code",
   "execution_count": null,
   "metadata": {},
   "outputs": [],
   "source": []
  },
  {
   "cell_type": "code",
   "execution_count": 19,
   "metadata": {},
   "outputs": [
    {
     "data": {
      "text/plain": [
       "print_df2latex (generic function with 1 method)"
      ]
     },
     "metadata": {},
     "output_type": "display_data"
    }
   ],
   "source": [
    "function print_df2latex(df, cols)\n",
    "    \n",
    "    #print latex table\n",
    "    for col in cols\n",
    "        if contains(string(col), '_')\n",
    "            print(replace(string(col), '_' => ' '))\n",
    "        else\n",
    "            print(string(col))\n",
    "        end\n",
    "        if col != cols[end]\n",
    "            print(\" & \")\n",
    "        else\n",
    "            println(\"\\\\\\\\\")\n",
    "        end\n",
    "    end\n",
    "    for i in 1:nrow(df)\n",
    "        for col in cols\n",
    "            if col == \"name\"\n",
    "                print(\"LRS\")\n",
    "            else\n",
    "                if col in [\"summed_ks\", \"ks_best_replica\", \"ks_worst_replica\"]\n",
    "                    @printf(\"%.2f\", df[i, col])\n",
    "                else\n",
    "                    if contains(string(df[i, col]), '_')\n",
    "                        print(replace(string(df[i, col]), '_' => ' '))\n",
    "                    else\n",
    "                        print(string(df[i, col]))\n",
    "                    end\n",
    "                end\n",
    "            end\n",
    "            if col != \"ks_worst_replica\"\n",
    "                print(\" & \")\n",
    "            else\n",
    "                println(\"\\\\\\\\\")\n",
    "            end\n",
    "        end\n",
    "        \n",
    "    end\n",
    "end"
   ]
  },
  {
   "cell_type": "code",
   "execution_count": 20,
   "metadata": {},
   "outputs": [],
   "source": [
    "function f(x)\n",
    "    if isnothing(x)\n",
    "        return NaN\n",
    "    else\n",
    "        return x[1]\n",
    "    end\n",
    "end\n",
    "\n",
    "df_big[!,\"summed_ks\"] = map(f, df_big[!,\"ks_dist_ensemble\"]);\n"
   ]
  },
  {
   "cell_type": "code",
   "execution_count": 23,
   "metadata": {},
   "outputs": [],
   "source": [
    "function mi(x)\n",
    "    if isnothing(x)\n",
    "        return NaN\n",
    "    else\n",
    "        return minimum(stack(x)[1,:])\n",
    "    end\n",
    "end\n",
    "\n",
    "function ma(x)\n",
    "    if isnothing(x)\n",
    "        return NaN\n",
    "    else\n",
    "        return maximum(stack(x)[1,:])\n",
    "    end\n",
    "end\n",
    "\n",
    "df_big[!,\"ks_best_replica\"] = map(mi, df_big[!,\"ks_dist_replicas\"]);\n",
    "df_big[!,\"ks_worst_replica\"] = map(ma, df_big[!,\"ks_dist_replicas\"]);"
   ]
  },
  {
   "cell_type": "code",
   "execution_count": null,
   "metadata": {},
   "outputs": [
    {
     "name": "stdout",
     "output_type": "stream",
     "text": [
      "\u001b[1m19×9 DataFrame\u001b[0m\n",
      "\u001b[1m Row \u001b[0m│\u001b[1m name     \u001b[0m\u001b[1m tracking_noise \u001b[0m\u001b[1m hist_len \u001b[0m\u001b[1m lambda \u001b[0m\u001b[1m model_noise \u001b[0m\u001b[1m n_unstable \u001b[0m\u001b[1m summed_ks  \u001b[0m\u001b[1m ks_best_replica \u001b[0m\u001b[1m ks_worst_replica \u001b[0m\n",
      "     │\u001b[90m String   \u001b[0m\u001b[90m Float64        \u001b[0m\u001b[90m Int64    \u001b[0m\u001b[90m Any    \u001b[0m\u001b[90m Symbol      \u001b[0m\u001b[90m Any        \u001b[0m\u001b[90m Float64    \u001b[0m\u001b[90m Float64         \u001b[0m\u001b[90m Float64          \u001b[0m\n",
      "─────┼────────────────────────────────────────────────────────────────────────────────────────────────────────────────────\n",
      "   1 │ LinReg1              0.0         5  0.0     MVG          0             0.19812          0.141596          0.370516\n",
      "   2 │ LinReg25             0.0        20  0.0     MVG          0             0.21629          0.169171          0.406965\n",
      "   3 │ LinReg50             0.0         0  0.0     MVG          5             0.438475         0.39805           1.29547\n",
      "   4 │ LinReg52             0.0         1  0.0     MVG          0             0.347861         0.252819          0.509012\n",
      "   5 │ LinReg54             0.0         3  0.0     MVG          0             0.260293         0.20222           0.450714\n",
      "   6 │ LinReg56             0.0        50  0.0     MVG          5           NaN              NaN               NaN\n",
      "   7 │ LinReg58             0.0        80  0.0     MVG          5             1.00306          0.822464          1.66849\n",
      "   8 │ LinReg60             0.0         4  0.0     MVG          0             0.235894         0.203795          0.394065\n",
      "   9 │ LinReg62             0.0         8  0.0     MVG          0             0.233249         0.196745          0.361366\n",
      "  10 │ LinReg64             0.0        10  0.0     MVG          0             0.197235         0.213045          0.39229\n",
      "  11 │ LinReg66             0.0        25  0.0     MVG          0             0.258414         0.230094          0.345566\n",
      "  12 │ LinReg68             0.0        30  0.0     MVG          0             0.1938           0.165446          0.38449\n",
      "  13 │ LinReg70             0.0         6  0.0     MVG          0             0.249519         0.211195          0.346291\n",
      "  14 │ LinReg72             0.0         7  0.0     MVG          0             0.20265          0.174546          0.331492\n",
      "  15 │ LinReg74             0.0        40  0.0     MVG          3             0.249894         0.280593          0.435689\n",
      "  16 │ LinReg76             0.0        60  0.0     MVG          5             0.393333         0.403704          0.449886\n",
      "  17 │ DDN                  0.0        -5  NA      MVG          0             0.845859         0.80633           0.978751\n",
      "  18 │ smag                 0.0       -10  NA      MVG          0             0.705107         0.705107          0.705107\n",
      "  19 │ nomodel              0.0       -15  NA      MVG          0             2.33797          2.33797           2.33797"
     ]
    }
   ],
   "source": [
    "x = df_big[df_big.tracking_noise .== 0.0, :]\n",
    "x = x[x.model_noise .== :MVG, :]\n",
    "#print(x[!,[\"name\", \"tracking_noise\",\t\"hist_len\",\t\"lambda\", \"model_noise\",\"n_unstable\",\"summed_ks\", \"ks_best_replica\", \"ks_worst_replica\"]])\n",
    "x_0 = x[(x.lambda .== \"NA\") .| (x.lambda .== 0.0), :];\n",
    "print(x_0[!,[\"name\", \"tracking_noise\",\t\"hist_len\",\t\"lambda\", \"model_noise\",\"n_unstable\",\"summed_ks\", \"ks_best_replica\", \"ks_worst_replica\"]])\n"
   ]
  },
  {
   "cell_type": "code",
   "execution_count": null,
   "metadata": {},
   "outputs": [
    {
     "data": {
      "text/plain": [
       "false"
      ]
     },
     "metadata": {},
     "output_type": "display_data"
    }
   ],
   "source": []
  },
  {
   "cell_type": "code",
   "execution_count": null,
   "metadata": {},
   "outputs": [
    {
     "data": {
      "text/plain": [
       "CairoMakie.Screen{PDF}\n"
      ]
     },
     "metadata": {},
     "output_type": "display_data"
    }
   ],
   "source": [
    "## plot Predictive quality of SGS models  BIG data\n",
    "x = df_big[df_big.tracking_noise .== 0.0, :]\n",
    "x = x[x.model_noise .== :MVG, :]\n",
    "#print(x[!,[\"name\", \"tracking_noise\",\t\"hist_len\",\t\"lambda\", \"model_noise\",\"n_unstable\",\"summed_ks\", \"ks_best_replica\", \"ks_worst_replica\"]])\n",
    "x_0 = x[(x.lambda .== \"NA\") .| (x.lambda .== 0.0), :];\n",
    "\n",
    "fig = Figure()\n",
    "a = Axis(fig[1, 1], xticks = ([-15, -10, -5, 0, 10, 20, 30, 40, 50 ,60,70,80], [\"NoModel\", \"smag\", \"DDN\", \"0\", \"10\", \"20\", \"30\", \"40\", \"50\" ,\"60\",\"70\",\"80\"]), xticklabelrotation = pi/4)\n",
    "x0_unstable = x_0[x_0.n_unstable .>= 1, :]\n",
    "x0_stable = x_0[x_0.n_unstable .== 0, :]\n",
    "\n",
    "scatter!(x0_stable.hist_len, x0_stable.summed_ks; color = :blue, label= \"ensemble\")\n",
    "rangebars!(x0_stable.hist_len, x0_stable.ks_worst_replica, x0_stable.ks_best_replica; color = :blue, label= \"range\") \n",
    "scatter!(x0_unstable.hist_len, x0_unstable.summed_ks; color = :blue, label= \"unstable\", markersize = 15, marker = 'X')\n",
    "\n",
    "axislegend(a, postion=:ct)\n",
    "\n",
    "a.ylabel=\"Summed KS-distance\"\n",
    "a.xlabel=\"SGS model / History length LRS\"\n",
    "\n",
    "fig\n",
    "save(@__DIR__()*\"/../output/figures_paper/linregs/history_length_notracknoise.pdf\", fig)\n",
    "#save(@__DIR__()*\"/../output/figures_paper/linregs/history_length_notracknoise.png\", fig)"
   ]
  },
  {
   "cell_type": "code",
   "execution_count": null,
   "metadata": {},
   "outputs": [
    {
     "data": {
      "text/plain": [
       "CairoMakie.Screen{PDF}\n"
      ]
     },
     "metadata": {},
     "output_type": "display_data"
    }
   ],
   "source": [
    "## plot Predictive quality of SGS models influence regularization\n",
    "x = df_big[df_big.tracking_noise .== 0.0, :]\n",
    "x = x[x.model_noise .== :MVG .&& x.hist_len .!= 50, :]\n",
    "\n",
    "x_0 = x[x.lambda .== 0.0, :]\n",
    "x_01 = x[x.lambda .== 0.01, :]\n",
    "#print(x_01[!,[\"name\", \"tracking_noise\",\t\"hist_len\",\t\"lambda\", \"model_noise\",\"n_unstable\",\"summed_ks\", \"ks_best_replica\", \"ks_worst_replica\"]])\n",
    "x0_unstable = x_0[x_0.n_unstable .>= 1, :]\n",
    "x0_stable = x_0[x_0.n_unstable .== 0, :]\n",
    "x01_unstable = x_01[x_01.n_unstable .>= 1, :]\n",
    "x01_stable = x_01[x_01.n_unstable .== 0, :]\n",
    "\n",
    "fig = Figure()\n",
    "a = Axis(fig[1, 1])\n",
    "\n",
    "e=scatter!(x0_stable.hist_len, x0_stable.summed_ks; color = :blue, label= \"ensemble\")\n",
    "r=rangebars!(x0_stable.hist_len, x0_stable.ks_worst_replica, x0_stable.ks_best_replica; color = :blue, label= \"range\") \n",
    "x=scatter!(x0_unstable.hist_len, x0_unstable.summed_ks; color = :blue, label= \"unstable\", markersize = 15, marker = 'X')\n",
    "\n",
    "g=scatter!(x01_stable.hist_len.+0.3, x01_stable.summed_ks; color = :green, label= \"ensemble\")\n",
    "rangebars!(x01_stable.hist_len.+0.3, x01_stable.ks_worst_replica, x01_stable.ks_best_replica; color = :green, label= \"range\") \n",
    "scatter!(x01_unstable.hist_len.+0.3, x01_unstable.summed_ks; color = :green, label= \"unstable\", markersize = 15, marker = 'X')\n",
    "\n",
    "p = [MarkerElement(color = :black, marker = :circle)]\n",
    "l = [LineElement(color = :black)]\n",
    "x = [MarkerElement(color = :black, marker = 'X', markersize = 15)]\n",
    "axislegend(a, [e, g, p,l,x], [L\"$\\lambda=0$\", L\"$\\lambda=0.01$\", \"ensemble\", \"range\", \"unstable\"])\n",
    "a.ylabel=\"Summed KS-distance\"\n",
    "a.xlabel=\"History length\"\n",
    "\n",
    "fig\n",
    "save(@__DIR__()*\"/../output/figures_paper/linregs/history_length_regularization.pdf\", fig)"
   ]
  },
  {
   "cell_type": "code",
   "execution_count": null,
   "metadata": {},
   "outputs": [],
   "source": []
  },
  {
   "cell_type": "code",
   "execution_count": 16,
   "metadata": {},
   "outputs": [],
   "source": [
    "### small training data\n",
    "df1 = load(@__DIR__()*\"/output/ks_dists_range_1_48.jld2\", \"ks_table\");\n",
    "df2 = load(@__DIR__()*\"/output/ks_dists_range_49_58.jld2\", \"ks_table\");\n",
    "df3 = load(@__DIR__()*\"/output/ks_dists_range_59_68.jld2\", \"ks_table\");\n",
    "df4 = load(@__DIR__()*\"/output/ks_dists_range_69_76.jld2\", \"ks_table\");\n",
    "df5 = load(@__DIR__()*\"/output/ks_dists_range_77_148.jld2\", \"ks_table\");\n",
    "df6 = load(@__DIR__()*\"/output/ks_dists_range_149_155.jld2\", \"ks_table\");\n",
    "df_big = vcat(df1, df2, df3, df4, df5, df6);\n",
    "\n",
    "function f(x)\n",
    "    if isnothing(x)\n",
    "        return NaN\n",
    "    else\n",
    "        return x[1]\n",
    "    end\n",
    "end\n",
    "df_big[!,\"summed_ks\"] = map(f, df_big[!,\"ks_dist_ensemble\"]);\n",
    "function mi(x)\n",
    "    if isnothing(x)\n",
    "        return NaN\n",
    "    else\n",
    "        return minimum(stack(x)[1,:])\n",
    "    end\n",
    "end\n",
    "\n",
    "function ma(x)\n",
    "    if isnothing(x)\n",
    "        return NaN\n",
    "    else\n",
    "        return maximum(stack(x)[1,:])\n",
    "    end\n",
    "end\n",
    "\n",
    "df_big[!,\"ks_best_replica\"] = map(mi, df_big[!,\"ks_dist_replicas\"]);\n",
    "df_big[!,\"ks_worst_replica\"] = map(ma, df_big[!,\"ks_dist_replicas\"]);\n"
   ]
  },
  {
   "cell_type": "code",
   "execution_count": 36,
   "metadata": {},
   "outputs": [
    {
     "name": "stdout",
     "output_type": "stream",
     "text": [
      "\u001b[1m8×10 DataFrame\u001b[0m\n",
      "\u001b[1m Row \u001b[0m│\u001b[1m name      \u001b[0m\u001b[1m tracking_noise \u001b[0m\u001b[1m hist_len \u001b[0m\u001b[1m lambda  \u001b[0m\u001b[1m train_range \u001b[0m\u001b[1m data_size \u001b[0m\u001b[1m n_unstable \u001b[0m\u001b[1m summed_ks \u001b[0m\u001b[1m ks_best_replica \u001b[0m\u001b[1m ks_worst_replica \u001b[0m\n",
      "     │\u001b[90m String    \u001b[0m\u001b[90m Float64        \u001b[0m\u001b[90m Int64    \u001b[0m\u001b[90m Float64 \u001b[0m\u001b[90m Tuple…      \u001b[0m\u001b[90m Float64   \u001b[0m\u001b[90m Any        \u001b[0m\u001b[90m Float64   \u001b[0m\u001b[90m Float64         \u001b[0m\u001b[90m Float64          \u001b[0m\n",
      "─────┼────────────────────────────────────────────────────────────────────────────────────────────────────────────────────────────────\n",
      "   1 │ LinReg1               0.0         5      0.0  (400, 4000)       10.0  0            0.19812          0.141596          0.370516\n",
      "   2 │ LinReg64              0.0        10      0.0  (400, 4000)       10.0  0            0.197235         0.213045          0.39229\n",
      "   3 │ LinReg77              0.0         5      0.0  (400, 2000)        5.0  0            0.78831          0.677683          1.01657\n",
      "   4 │ LinReg78              0.0         5      0.0  (400, 1000)        2.5  3            0.974445         0.697018          1.11107\n",
      "   5 │ LinReg95              0.0        10      0.0  (400, 2000)        5.0  0            0.79024          0.685558          0.98945\n",
      "   6 │ LinReg96              0.0        10      0.0  (400, 1000)        2.5  5            1.60353          1.60353           1.60353\n",
      "   7 │ LinReg149             0.0         5      0.0  (400, 3000)        7.5  5            0.771135         0.771135          0.771135\n",
      "   8 │ LinReg152             0.0        10      0.0  (400, 3000)        7.5  1            0.279306         0.252119          0.588712\u001b[1m8×10 DataFrame\u001b[0m\n",
      "\u001b[1m Row \u001b[0m│\u001b[1m name      \u001b[0m\u001b[1m tracking_noise \u001b[0m\u001b[1m hist_len \u001b[0m\u001b[1m lambda  \u001b[0m\u001b[1m train_range \u001b[0m\u001b[1m data_size \u001b[0m\u001b[1m n_unstable \u001b[0m\u001b[1m summed_ks \u001b[0m\u001b[1m ks_best_replica \u001b[0m\u001b[1m ks_worst_replica \u001b[0m\n",
      "     │\u001b[90m String    \u001b[0m\u001b[90m Float64        \u001b[0m\u001b[90m Int64    \u001b[0m\u001b[90m Float64 \u001b[0m\u001b[90m Tuple…      \u001b[0m\u001b[90m Float64   \u001b[0m\u001b[90m Any        \u001b[0m\u001b[90m Float64   \u001b[0m\u001b[90m Float64         \u001b[0m\u001b[90m Float64          \u001b[0m\n",
      "─────┼────────────────────────────────────────────────────────────────────────────────────────────────────────────────────────────────\n",
      "   1 │ LinReg5               0.0         5     0.01  (400, 4000)       10.0  0            0.232814         0.175171          0.442689\n",
      "   2 │ LinReg63              0.0        10     0.01  (400, 4000)       10.0  0            0.465903         0.400365          0.579786\n",
      "   3 │ LinReg81              0.0         5     0.01  (400, 2000)        5.0  0            0.796165         0.78053           0.825079\n",
      "   4 │ LinReg82              0.0         5     0.01  (400, 1000)        2.5  5            0.861507         0.861507          0.861507\n",
      "   5 │ LinReg99              0.0        10     0.01  (400, 2000)        5.0  0            0.826924         0.728782          0.960801\n",
      "   6 │ LinReg100             0.0        10     0.01  (400, 1000)        2.5  0            0.318127         0.298543          0.38689\n",
      "   7 │ LinReg151             0.0         5     0.01  (400, 3000)        7.5  1            0.225551         0.208795          0.705709\n",
      "   8 │ LinReg154             0.0        10     0.01  (400, 3000)        7.5  0            0.464338         0.348416          0.646709\u001b[1m8×10 DataFrame\u001b[0m\n",
      "\u001b[1m Row \u001b[0m│\u001b[1m name      \u001b[0m\u001b[1m tracking_noise \u001b[0m\u001b[1m hist_len \u001b[0m\u001b[1m lambda  \u001b[0m\u001b[1m train_range \u001b[0m\u001b[1m data_size \u001b[0m\u001b[1m n_unstable \u001b[0m\u001b[1m summed_ks \u001b[0m\u001b[1m ks_best_replica \u001b[0m\u001b[1m ks_worst_replica \u001b[0m\n",
      "     │\u001b[90m String    \u001b[0m\u001b[90m Float64        \u001b[0m\u001b[90m Int64    \u001b[0m\u001b[90m Float64 \u001b[0m\u001b[90m Tuple…      \u001b[0m\u001b[90m Float64   \u001b[0m\u001b[90m Any        \u001b[0m\u001b[90m Float64   \u001b[0m\u001b[90m Float64         \u001b[0m\u001b[90m Float64          \u001b[0m\n",
      "─────┼────────────────────────────────────────────────────────────────────────────────────────────────────────────────────────────────\n",
      "   1 │ LinReg3               0.0         5      0.1  (400, 4000)       10.0  0            0.188315         0.215495          0.352016\n",
      "   2 │ LinReg79              0.0         5      0.1  (400, 2000)        5.0  0            0.78999          0.721557          0.851404\n",
      "   3 │ LinReg80              0.0         5      0.1  (400, 1000)        2.5  4            0.452253         0.338539          0.894778\n",
      "   4 │ LinReg97              0.0        10      0.1  (400, 2000)        5.0  0            0.842834         0.796155          0.942476\n",
      "   5 │ LinReg98              0.0        10      0.1  (400, 1000)        2.5  1            0.286257         0.268268          0.576984\n",
      "   6 │ LinReg150             0.0         5      0.1  (400, 3000)        7.5  0            0.346901         0.292343          0.477288\n",
      "   7 │ LinReg153             0.0        10      0.1  (400, 3000)        7.5  0            0.523827         0.437764          0.627034\n",
      "   8 │ LinReg155             0.0        10      0.1  (400, 4000)       10.0  0            0.374051         0.293093          0.475713"
     ]
    }
   ],
   "source": [
    "for lab in [0.0, 0.01, 0.1]\n",
    "    x = df_big[df_big.tracking_noise .== 0.0, :]\n",
    "    x = x[x.model_noise .== :MVG, :]\n",
    "    x = x[x.lambda .== lab, :]\n",
    "    x = x[x.hist_len .== 5 .|| x.hist_len .== 10, :]\n",
    "\n",
    "    x.data_size = map(x -> x[2]/400, x.train_range)\n",
    "\n",
    "    print(x[!,[\"name\", \"tracking_noise\",\t\"hist_len\",\t\"lambda\", \"train_range\", \"data_size\",\"n_unstable\",\"summed_ks\", \"ks_best_replica\", \"ks_worst_replica\"]])\n",
    "\n",
    "    x5_unstable = x[x.hist_len .== 5 .&& x.n_unstable .>= 1, :]\n",
    "    x5_stable = x[x.hist_len .== 5 .&& x.n_unstable .== 0, :]\n",
    "    x10_unstable = x[x.hist_len .== 10 .&& x.n_unstable .>= 1, :]\n",
    "    x10_stable = x[x.hist_len .== 10 .&& x.n_unstable .== 0, :]\n",
    "\n",
    "    fig = Figure(size=(450,350), fontsize=18)\n",
    "    a = Axis(fig[1, 1])\n",
    "\n",
    "    e=scatter!(x5_stable.data_size.-0.05, x5_stable.summed_ks; color = :blue, label= \"ensemble\")\n",
    "    r=rangebars!(x5_stable.data_size.-0.05, x5_stable.ks_worst_replica, x5_stable.ks_best_replica; color = :blue, label= \"range\") \n",
    "    x=scatter!(x5_unstable.data_size.-0.05, x5_unstable.summed_ks; color = :blue, label= \"unstable\", markersize = 15, marker = 'X')\n",
    "\n",
    "    g=scatter!(x10_stable.data_size.+0.05, x10_stable.summed_ks; color = :green, label= \"ensemble\")\n",
    "    rangebars!(x10_stable.data_size.+0.05, x10_stable.ks_worst_replica, x10_stable.ks_best_replica; color = :green, label= \"range\")\n",
    "    scatter!(x10_unstable.data_size.+0.05, x10_unstable.summed_ks; color = :green, label= \"unstable\", markersize = 15, marker = 'X')\n",
    "\n",
    "\n",
    "    p = [MarkerElement(color = :black, marker = :circle)]\n",
    "    l = [LineElement(color = :black)]\n",
    "    x = [MarkerElement(color = :black, marker = 'X', markersize = 15)]\n",
    "    axislegend(a, [e,g,p,l,x], [\"hist 5\", \"hist 10\", \"ensemble\", \"range\", \"unstable\"])\n",
    "    a.ylabel=\"Summed KS-distance\"\n",
    "    a.xlabel=\"Training data size\"\n",
    "    a.xticks = ([2.5, 5, 7.5, 10], [\"2.5\", \"5\", \"7.5\", \"10\"])\n",
    "    ylims!(a,(0, 1.65))\n",
    "    fig\n",
    "    save(@__DIR__()*\"/../output/figures_paper/linregs/train_size_lambda_$(lab).pdf\", fig)\n",
    "\n",
    "end\n",
    "\n"
   ]
  },
  {
   "cell_type": "code",
   "execution_count": null,
   "metadata": {},
   "outputs": [
    {
     "name": "stdout",
     "output_type": "stream",
     "text": [
      "\u001b[1m72×9 DataFrame\u001b[0m\n",
      "\u001b[1m Row \u001b[0m│\u001b[1m name      \u001b[0m\u001b[1m tracking_noise \u001b[0m\u001b[1m hist_len \u001b[0m\u001b[1m lambda  \u001b[0m\u001b[1m train_range \u001b[0m\u001b[1m n_unstable \u001b[0m\u001b[1m summed_ks  \u001b[0m\u001b[1m ks_best_replica \u001b[0m\u001b[1m ks_worst_replica \u001b[0m\n",
      "     │\u001b[90m String    \u001b[0m\u001b[90m Float64        \u001b[0m\u001b[90m Int64    \u001b[0m\u001b[90m Float64 \u001b[0m\u001b[90m Tuple…      \u001b[0m\u001b[90m Any        \u001b[0m\u001b[90m Float64    \u001b[0m\u001b[90m Float64         \u001b[0m\u001b[90m Float64          \u001b[0m\n",
      "─────┼──────────────────────────────────────────────────────────────────────────────────────────────────────────────────────\n",
      "   1 │ LinReg91             0.01         5     0.1   (400, 2000)  0             0.219655         0.259369          0.330192\n",
      "   2 │ LinReg98             0.0         10     0.1   (400, 1000)  1             0.286257         0.268268          0.576984\n",
      "   3 │ LinReg100            0.0         10     0.01  (400, 1000)  0             0.318127         0.298543          0.38689\n",
      "   4 │ LinReg89             0.01         5     0.0   (400, 2000)  1             0.324747         0.307192          0.585291\n",
      "   5 │ LinReg125            0.01        20     0.0   (400, 2000)  0             0.371931         0.347016          0.462538\n",
      "   6 │ LinReg143            0.01        30     0.0   (400, 2000)  0             0.372526         0.364666          0.448814\n",
      "   7 │ LinReg131            0.0         30     0.0   (400, 2000)  0             0.387395         0.359041          0.508837\n",
      "   8 │ LinReg135            0.0         30     0.01  (400, 2000)  0             0.431614         0.345141          0.537587\n",
      "   9 │ LinReg118            0.0         20     0.01  (400, 1000)  0             0.444614         0.359116          0.574611\n",
      "  10 │ LinReg137            0.1         30     0.0   (400, 2000)  0             0.445624         0.417865          0.505012\n",
      "  11 │ LinReg80             0.0          5     0.1   (400, 1000)  4             0.452253         0.338539          0.894778\n",
      "  12 │ LinReg129            0.01        20     0.01  (400, 2000)  0             0.452749         0.434014          0.544211\n",
      "  13 │ LinReg107            0.01        10     0.0   (400, 2000)  0             0.453764         0.41494           0.579061\n",
      "  14 │ LinReg115            0.0         20     0.1   (400, 2000)  0             0.467623         0.403565          0.689583\n",
      "  15 │ LinReg105            0.1         10     0.01  (400, 2000)  0             0.496683         0.424439          0.625909\n",
      "  16 │ LinReg103            0.1         10     0.1   (400, 2000)  0             0.503312         0.41939           0.757006\n",
      "  17 │ LinReg123            0.1         20     0.01  (400, 2000)  0             0.529497         0.454414          0.594535\n",
      "  18 │ LinReg117            0.0         20     0.01  (400, 2000)  0             0.535507         0.521487          0.59566\n",
      "  19 │ LinReg119            0.1         20     0.0   (400, 2000)  4             0.539339         0.467038          0.663835\n",
      "  20 │ LinReg121            0.1         20     0.1   (400, 2000)  0             0.550546         0.471438          0.648309\n",
      "  21 │ LinReg116            0.0         20     0.1   (400, 1000)  0             0.553096         0.462238          0.733532\n",
      "  22 │ LinReg85             0.1          5     0.1   (400, 2000)  0             0.573281         0.470763          0.826354\n",
      "  23 │ LinReg127            0.01        20     0.1   (400, 2000)  0             0.581765         0.435914          0.694883\n",
      "  24 │ LinReg87             0.1          5     0.01  (400, 2000)  0             0.60268          0.533937          0.661633\n",
      "  25 │ LinReg109            0.01        10     0.1   (400, 2000)  0             0.603795         0.582385          0.669158\n",
      "  26 │ LinReg142            0.1         30     0.01  (400, 1000)  0             0.604235         0.469888          0.768631\n",
      "  27 │ LinReg111            0.01        10     0.01  (400, 2000)  0             0.627769         0.530037          0.722832\n",
      "  28 │ LinReg145            0.01        30     0.1   (400, 2000)  0             0.660948         0.574261          0.830904\n",
      "  29 │ LinReg128            0.01        20     0.1   (400, 1000)  0             0.679518         0.633359          0.737557\n",
      "  30 │ LinReg130            0.01        20     0.01  (400, 1000)  0             0.715572         0.672708          0.767856\n",
      "  31 │ LinReg140            0.1         30     0.1   (400, 1000)  0             0.738412         0.618235          0.876753\n",
      "  32 │ LinReg139            0.1         30     0.1   (400, 2000)  0             0.744941         0.697733          0.800355\n",
      "  33 │ LinReg147            0.01        30     0.01  (400, 2000)  0             0.747831         0.686633          0.874278\n",
      "  34 │ LinReg133            0.0         30     0.1   (400, 2000)  0             0.752566         0.686583          0.805955\n",
      "  35 │ LinReg141            0.1         30     0.01  (400, 2000)  0             0.777266         0.699058          0.848854\n",
      "  36 │ LinReg110            0.01        10     0.1   (400, 1000)  0             0.785515         0.727507          0.843429\n",
      "  37 │ LinReg77             0.0          5     0.0   (400, 2000)  0             0.78831          0.677683          1.01657\n",
      "  38 │ LinReg79             0.0          5     0.1   (400, 2000)  0             0.78999          0.721557          0.851404\n",
      "  39 │ LinReg95             0.0         10     0.0   (400, 2000)  0             0.79024          0.685558          0.98945\n",
      "  40 │ LinReg81             0.0          5     0.01  (400, 2000)  0             0.796165         0.78053           0.825079\n",
      "  41 │ LinReg112            0.01        10     0.01  (400, 1000)  0             0.81914          0.770456          0.931477\n",
      "  42 │ LinReg99             0.0         10     0.01  (400, 2000)  0             0.826924         0.728782          0.960801\n",
      "  43 │ LinReg97             0.0         10     0.1   (400, 2000)  0             0.842834         0.796155          0.942476\n",
      "  44 │ LinReg144            0.01        30     0.0   (400, 1000)  1             0.857227         0.636784          2.35179\n",
      "  45 │ LinReg82             0.0          5     0.01  (400, 1000)  5             0.861507         0.861507          0.861507\n",
      "  46 │ LinReg132            0.0         30     0.0   (400, 1000)  5             0.881771         0.919541          1.17971\n",
      "  47 │ LinReg92             0.01         5     0.1   (400, 1000)  1             0.905932         0.78378           1.19795\n",
      "  48 │ LinReg124            0.1         20     0.01  (400, 1000)  0             0.915617         0.832354          0.978451\n",
      "  49 │ LinReg122            0.1         20     0.1   (400, 1000)  0             0.918567         0.885078          1.0727\n",
      "  50 │ LinReg78             0.0          5     0.0   (400, 1000)  3             0.974445         0.697018          1.11107\n",
      "  51 │ LinReg104            0.1         10     0.1   (400, 1000)  0             1.0021           0.915727          1.14362\n",
      "  52 │ LinReg106            0.1         10     0.01  (400, 1000)  0             1.01694          0.916577          1.1512\n",
      "  53 │ LinReg136            0.0         30     0.01  (400, 1000)  0             1.10451          0.963676          1.31027\n",
      "  54 │ LinReg134            0.0         30     0.1   (400, 1000)  0             1.12438          0.9919            1.23407\n",
      "  55 │ LinReg148            0.01        30     0.01  (400, 1000)  0             1.13314          0.9844            1.23259\n",
      "  56 │ LinReg146            0.01        30     0.1   (400, 1000)  0             1.1935           1.10595           1.31514\n",
      "  57 │ LinReg83             0.1          5     0.0   (400, 2000)  5             1.19899          1.24447           1.72931\n",
      "  58 │ LinReg86             0.1          5     0.1   (400, 1000)  0             1.20132          1.10562           1.32594\n",
      "  59 │ LinReg88             0.1          5     0.01  (400, 1000)  0             1.21281          1.1591            1.33319\n",
      "  60 │ LinReg84             0.1          5     0.0   (400, 1000)  5             1.25073          1.34339           1.45548\n",
      "  61 │ LinReg120            0.1         20     0.0   (400, 1000)  5             1.27818          1.19708           1.43172\n",
      "  62 │ LinReg101            0.1         10     0.0   (400, 2000)  5             1.42691          1.33467           1.67491\n",
      "  63 │ LinReg102            0.1         10     0.0   (400, 1000)  5             1.59498          1.44861           1.81395\n",
      "  64 │ LinReg96             0.0         10     0.0   (400, 1000)  5             1.60353          1.60353           1.60353\n",
      "  65 │ LinReg94             0.01         5     0.01  (400, 1000)  5             1.72302          1.11853           2.75672\n",
      "  66 │ LinReg90             0.01         5     0.0   (400, 1000)  5             2.06185          1.90417           2.45363\n",
      "  67 │ LinReg126            0.01        20     0.0   (400, 1000)  5             2.08145          2.1166            2.13584\n",
      "  68 │ LinReg114            0.0         20     0.0   (400, 1000)  5             2.34115          2.24768           2.40718\n",
      "  69 │ LinReg108            0.01        10     0.0   (400, 1000)  5             2.55773          2.13862           3.00249\n",
      "  70 │ LinReg138            0.1         30     0.0   (400, 1000)  5             2.79006          2.68831           3.1576\n",
      "  71 │ LinReg93             0.01         5     0.01  (400, 2000)  5           NaN              NaN               NaN\n",
      "  72 │ LinReg113            0.0         20     0.0   (400, 2000)  5           NaN              NaN               NaN"
     ]
    }
   ],
   "source": [
    "x = df_big[df_big.tracking_noise .== 0.0, :]\n",
    "x = x[x.model_noise .== :MVG, :]\n",
    "#print(x[!,[\"name\", \"tracking_noise\",\t\"hist_len\",\t\"lambda\", \"model_noise\",\"n_unstable\",\"summed_ks\", \"ks_best_replica\", \"ks_worst_replica\"]])\n",
    "#x_0 = x[(x.lambda .== \"NA\") .| (x.lambda .== 0.0), :];\n",
    "sort!(df_big, [:summed_ks])\n",
    "print(df_big[!,[\"name\", \"tracking_noise\",\t\"hist_len\",\t\"lambda\", \"train_range\",\"n_unstable\",\"summed_ks\", \"ks_best_replica\", \"ks_worst_replica\"]])\n",
    "\n"
   ]
  },
  {
   "cell_type": "code",
   "execution_count": 16,
   "metadata": {},
   "outputs": [
    {
     "data": {
      "text/plain": [
       "\"./output/data_table_smalldata\""
      ]
     },
     "metadata": {},
     "output_type": "display_data"
    }
   ],
   "source": [
    "using CSV\n",
    "CSV.write(\"./output/data_table_smalldata\", df_big[!,[\"name\", \"tracking_noise\",\t\"hist_len\",\t\"lambda\", \"train_range\",\"n_unstable\",\"summed_ks\", \"ks_best_replica\", \"ks_worst_replica\"]])"
   ]
  },
  {
   "cell_type": "code",
   "execution_count": null,
   "metadata": {},
   "outputs": [],
   "source": [
    "#### old stuff"
   ]
  },
  {
   "cell_type": "code",
   "execution_count": 23,
   "metadata": {},
   "outputs": [
    {
     "name": "stdout",
     "output_type": "stream",
     "text": [
      "\u001b[1m16×10 DataFrame\u001b[0m\n",
      "\u001b[1m Row \u001b[0m│\u001b[1m name     \u001b[0m\u001b[1m tracking_noise \u001b[0m\u001b[1m train_range \u001b[0m\u001b[1m hist_len \u001b[0m\u001b[1m lambda  \u001b[0m\u001b[1m model_noise \u001b[0m\u001b[1m n_unstable \u001b[0m\u001b[1m summed_ks  \u001b[0m\u001b[1m ks_best_replica \u001b[0m\u001b[1m ks_worst_replica \u001b[0m\n",
      "     │\u001b[90m String   \u001b[0m\u001b[90m Float64        \u001b[0m\u001b[90m Tuple…      \u001b[0m\u001b[90m Int64    \u001b[0m\u001b[90m Float64 \u001b[0m\u001b[90m Symbol      \u001b[0m\u001b[90m Any        \u001b[0m\u001b[90m Float64    \u001b[0m\u001b[90m Float64         \u001b[0m\u001b[90m Float64          \u001b[0m\n",
      "─────┼──────────────────────────────────────────────────────────────────────────────────────────────────────────────────────────────────\n",
      "   1 │ LinReg50             0.0  (400, 4000)         0      0.0  MVG          5             0.438475         0.39805           1.29547\n",
      "   2 │ LinReg52             0.0  (400, 4000)         1      0.0  MVG          0             0.347861         0.252819          0.509012\n",
      "   3 │ LinReg54             0.0  (400, 4000)         3      0.0  MVG          0             0.260293         0.20222           0.450714\n",
      "   4 │ LinReg60             0.0  (400, 4000)         4      0.0  MVG          0             0.235894         0.203795          0.394065\n",
      "   5 │ LinReg1              0.0  (400, 4000)         5      0.0  MVG          0             0.19812          0.141596          0.370516\n",
      "   6 │ LinReg70             0.0  (400, 4000)         6      0.0  MVG          0             0.249519         0.211195          0.346291\n",
      "   7 │ LinReg72             0.0  (400, 4000)         7      0.0  MVG          0             0.20265          0.174546          0.331492\n",
      "   8 │ LinReg62             0.0  (400, 4000)         8      0.0  MVG          0             0.233249         0.196745          0.361366\n",
      "   9 │ LinReg64             0.0  (400, 4000)        10      0.0  MVG          0             0.197235         0.213045          0.39229\n",
      "  10 │ LinReg25             0.0  (400, 4000)        20      0.0  MVG          0             0.21629          0.169171          0.406965\n",
      "  11 │ LinReg66             0.0  (400, 4000)        25      0.0  MVG          0             0.258414         0.230094          0.345566\n",
      "  12 │ LinReg68             0.0  (400, 4000)        30      0.0  MVG          0             0.1938           0.165446          0.38449\n",
      "  13 │ LinReg74             0.0  (400, 4000)        40      0.0  MVG          3             0.249894         0.280593          0.435689\n",
      "  14 │ LinReg56             0.0  (400, 4000)        50      0.0  MVG          5           NaN              NaN               NaN\n",
      "  15 │ LinReg76             0.0  (400, 4000)        60      0.0  MVG          5             0.393333         0.403704          0.449886\n",
      "  16 │ LinReg58             0.0  (400, 4000)        80      0.0  MVG          5             1.00306          0.822464          1.66849"
     ]
    }
   ],
   "source": [
    "sort!(df_big, [:hist_len])\n",
    "print(df_big[(df_big.tracking_noise .== 0.0) .& (df_big.model_noise .== :MVG).& (df_big.lambda .== 0.0), \n",
    "    [\"name\", \"tracking_noise\", \"train_range\",\"hist_len\",\t\"lambda\", \"model_noise\",\"n_unstable\",\"summed_ks\", \"ks_best_replica\", \"ks_worst_replica\"]])"
   ]
  },
  {
   "cell_type": "code",
   "execution_count": 34,
   "metadata": {},
   "outputs": [
    {
     "name": "stdout",
     "output_type": "stream",
     "text": [
      "name & hist len & n unstable & summed ks & ks best replica & ks worst replica\\\\\n",
      "LRS & 0 & 5 & 0.44 & 0.40 & 1.30\\\\\n",
      "LRS & 1 & 0 & 0.35 & 0.25 & 0.51\\\\\n",
      "LRS & 3 & 0 & 0.26 & 0.20 & 0.45\\\\\n",
      "LRS & 4 & 0 & 0.24 & 0.20 & 0.39\\\\\n",
      "LRS & 5 & 0 & 0.20 & 0.14 & 0.37\\\\\n",
      "LRS & 6 & 0 & 0.25 & 0.21 & 0.35\\\\\n",
      "LRS & 7 & 0 & 0.20 & 0.17 & 0.33\\\\\n",
      "LRS & 8 & 0 & 0.23 & 0.20 & 0.36\\\\\n",
      "LRS & 10 & 0 & 0.20 & 0.21 & 0.39\\\\\n",
      "LRS & 20 & 0 & 0.22 & 0.17 & 0.41\\\\\n",
      "LRS & 25 & 0 & 0.26 & 0.23 & 0.35\\\\\n",
      "LRS & 30 & 0 & 0.19 & 0.17 & 0.38\\\\\n",
      "LRS & 40 & 3 & 0.25 & 0.28 & 0.44\\\\\n",
      "LRS & 50 & 5 & NaN & NaN & NaN\\\\\n",
      "LRS & 60 & 5 & 0.39 & 0.40 & 0.45\\\\\n",
      "LRS & 80 & 5 & 1.00 & 0.82 & 1.67\\\\\n"
     ]
    }
   ],
   "source": [
    "df_print=df_big[(df_big.tracking_noise .== 0.0) .& (df_big.model_noise .== :MVG).& (df_big.lambda .== 0.0), [\"name\", \"hist_len\",\t\"lambda\" ,\"n_unstable\",\"summed_ks\", \"ks_best_replica\", \"ks_worst_replica\"]];\n",
    "print_df2latex(df_print, [\"name\", \"hist_len\",\"n_unstable\",\"summed_ks\", \"ks_best_replica\", \"ks_worst_replica\"])"
   ]
  },
  {
   "cell_type": "code",
   "execution_count": 24,
   "metadata": {},
   "outputs": [
    {
     "name": "stdout",
     "output_type": "stream",
     "text": [
      "\u001b[1m16×10 DataFrame\u001b[0m\n",
      "\u001b[1m Row \u001b[0m│\u001b[1m name     \u001b[0m\u001b[1m tracking_noise \u001b[0m\u001b[1m train_range \u001b[0m\u001b[1m hist_len \u001b[0m\u001b[1m lambda  \u001b[0m\u001b[1m model_noise \u001b[0m\u001b[1m n_unstable \u001b[0m\u001b[1m summed_ks \u001b[0m\u001b[1m ks_best_replica \u001b[0m\u001b[1m ks_worst_replica \u001b[0m\n",
      "     │\u001b[90m String   \u001b[0m\u001b[90m Float64        \u001b[0m\u001b[90m Tuple…      \u001b[0m\u001b[90m Int64    \u001b[0m\u001b[90m Float64 \u001b[0m\u001b[90m Symbol      \u001b[0m\u001b[90m Any        \u001b[0m\u001b[90m Float64   \u001b[0m\u001b[90m Float64         \u001b[0m\u001b[90m Float64          \u001b[0m\n",
      "─────┼─────────────────────────────────────────────────────────────────────────────────────────────────────────────────────────────────\n",
      "   1 │ LinReg49             0.0  (400, 4000)         0     0.01  MVG          5            0.756582         0.584644          1.00999\n",
      "   2 │ LinReg51             0.0  (400, 4000)         1     0.01  MVG          5            1.81989          1.51471           2.65703\n",
      "   3 │ LinReg53             0.0  (400, 4000)         3     0.01  MVG          2            0.474144         0.295868          0.742556\n",
      "   4 │ LinReg59             0.0  (400, 4000)         4     0.01  MVG          2            0.493812         0.463838          1.09485\n",
      "   5 │ LinReg5              0.0  (400, 4000)         5     0.01  MVG          0            0.232814         0.175171          0.442689\n",
      "   6 │ LinReg69             0.0  (400, 4000)         6     0.01  MVG          0            0.188755         0.224169          0.335192\n",
      "   7 │ LinReg71             0.0  (400, 4000)         7     0.01  MVG          0            0.414955         0.328142          0.526312\n",
      "   8 │ LinReg61             0.0  (400, 4000)         8     0.01  MVG          0            0.38857          0.313292          0.497938\n",
      "   9 │ LinReg63             0.0  (400, 4000)        10     0.01  MVG          0            0.465903         0.400365          0.579786\n",
      "  10 │ LinReg29             0.0  (400, 4000)        20     0.01  MVG          0            0.355061         0.295993          0.482463\n",
      "  11 │ LinReg65             0.0  (400, 4000)        25     0.01  MVG          0            0.448954         0.417365          0.58246\n",
      "  12 │ LinReg67             0.0  (400, 4000)        30     0.01  MVG          0            0.524112         0.546886          0.597335\n",
      "  13 │ LinReg73             0.0  (400, 4000)        40     0.01  MVG          0            0.60335          0.471863          0.694308\n",
      "  14 │ LinReg55             0.0  (400, 4000)        50     0.01  MVG          0            0.858169         0.743081          1.01542\n",
      "  15 │ LinReg75             0.0  (400, 4000)        60     0.01  MVG          0            0.559151         0.448164          0.754881\n",
      "  16 │ LinReg57             0.0  (400, 4000)        80     0.01  MVG          0            0.995185         0.917952          1.04705"
     ]
    }
   ],
   "source": [
    "sort!(df_big, [:hist_len])\n",
    "print(df_big[(df_big.tracking_noise .== 0.0) .& (df_big.model_noise .== :MVG).& (df_big.lambda .== 0.01), \n",
    "    [\"name\", \"tracking_noise\", \"train_range\",\"hist_len\",\t\"lambda\", \"model_noise\",\"n_unstable\",\"summed_ks\", \"ks_best_replica\", \"ks_worst_replica\"]])"
   ]
  },
  {
   "cell_type": "code",
   "execution_count": 34,
   "metadata": {},
   "outputs": [
    {
     "name": "stdout",
     "output_type": "stream",
     "text": [
      "\u001b[1m36×10 DataFrame\u001b[0m\n",
      "\u001b[1m Row \u001b[0m│\u001b[1m name      \u001b[0m\u001b[1m tracking_noise \u001b[0m\u001b[1m train_range \u001b[0m\u001b[1m hist_len \u001b[0m\u001b[1m lambda  \u001b[0m\u001b[1m model_noise \u001b[0m\u001b[1m n_unstable \u001b[0m\u001b[1m summed_ks \u001b[0m\u001b[1m ks_best_replica \u001b[0m\u001b[1m ks_worst_replica \u001b[0m\n",
      "     │\u001b[90m String    \u001b[0m\u001b[90m Float64        \u001b[0m\u001b[90m Tuple…      \u001b[0m\u001b[90m Int64    \u001b[0m\u001b[90m Float64 \u001b[0m\u001b[90m Symbol      \u001b[0m\u001b[90m Any        \u001b[0m\u001b[90m Float64   \u001b[0m\u001b[90m Float64         \u001b[0m\u001b[90m Float64          \u001b[0m\n",
      "─────┼──────────────────────────────────────────────────────────────────────────────────────────────────────────────────────────────────\n",
      "   1 │ LinReg98             0.0   (400, 1000)        10     0.1   MVG          1            0.286257         0.268268          0.576984\n",
      "   2 │ LinReg100            0.0   (400, 1000)        10     0.01  MVG          0            0.318127         0.298543          0.38689\n",
      "   3 │ LinReg118            0.0   (400, 1000)        20     0.01  MVG          0            0.444614         0.359116          0.574611\n",
      "   4 │ LinReg80             0.0   (400, 1000)         5     0.1   MVG          4            0.452253         0.338539          0.894778\n",
      "   5 │ LinReg116            0.0   (400, 1000)        20     0.1   MVG          0            0.553096         0.462238          0.733532\n",
      "   6 │ LinReg142            0.1   (400, 1000)        30     0.01  MVG          0            0.604235         0.469888          0.768631\n",
      "   7 │ LinReg128            0.01  (400, 1000)        20     0.1   MVG          0            0.679518         0.633359          0.737557\n",
      "   8 │ LinReg130            0.01  (400, 1000)        20     0.01  MVG          0            0.715572         0.672708          0.767856\n",
      "   9 │ LinReg140            0.1   (400, 1000)        30     0.1   MVG          0            0.738412         0.618235          0.876753\n",
      "  10 │ LinReg110            0.01  (400, 1000)        10     0.1   MVG          0            0.785515         0.727507          0.843429\n",
      "  11 │ LinReg112            0.01  (400, 1000)        10     0.01  MVG          0            0.81914          0.770456          0.931477\n",
      "  12 │ LinReg144            0.01  (400, 1000)        30     0.0   MVG          1            0.857227         0.636784          2.35179\n",
      "  13 │ LinReg82             0.0   (400, 1000)         5     0.01  MVG          5            0.861507         0.861507          0.861507\n",
      "  14 │ LinReg132            0.0   (400, 1000)        30     0.0   MVG          5            0.881771         0.919541          1.17971\n",
      "  15 │ LinReg92             0.01  (400, 1000)         5     0.1   MVG          1            0.905932         0.78378           1.19795\n",
      "  16 │ LinReg124            0.1   (400, 1000)        20     0.01  MVG          0            0.915617         0.832354          0.978451\n",
      "  17 │ LinReg122            0.1   (400, 1000)        20     0.1   MVG          0            0.918567         0.885078          1.0727\n",
      "  18 │ LinReg78             0.0   (400, 1000)         5     0.0   MVG          3            0.974445         0.697018          1.11107\n",
      "  19 │ LinReg104            0.1   (400, 1000)        10     0.1   MVG          0            1.0021           0.915727          1.14362\n",
      "  20 │ LinReg106            0.1   (400, 1000)        10     0.01  MVG          0            1.01694          0.916577          1.1512\n",
      "  21 │ LinReg136            0.0   (400, 1000)        30     0.01  MVG          0            1.10451          0.963676          1.31027\n",
      "  22 │ LinReg134            0.0   (400, 1000)        30     0.1   MVG          0            1.12438          0.9919            1.23407\n",
      "  23 │ LinReg148            0.01  (400, 1000)        30     0.01  MVG          0            1.13314          0.9844            1.23259\n",
      "  24 │ LinReg146            0.01  (400, 1000)        30     0.1   MVG          0            1.1935           1.10595           1.31514\n",
      "  25 │ LinReg86             0.1   (400, 1000)         5     0.1   MVG          0            1.20132          1.10562           1.32594\n",
      "  26 │ LinReg88             0.1   (400, 1000)         5     0.01  MVG          0            1.21281          1.1591            1.33319\n",
      "  27 │ LinReg84             0.1   (400, 1000)         5     0.0   MVG          5            1.25073          1.34339           1.45548\n",
      "  28 │ LinReg120            0.1   (400, 1000)        20     0.0   MVG          5            1.27818          1.19708           1.43172\n",
      "  29 │ LinReg102            0.1   (400, 1000)        10     0.0   MVG          5            1.59498          1.44861           1.81395\n",
      "  30 │ LinReg96             0.0   (400, 1000)        10     0.0   MVG          5            1.60353          1.60353           1.60353\n",
      "  31 │ LinReg94             0.01  (400, 1000)         5     0.01  MVG          5            1.72302          1.11853           2.75672\n",
      "  32 │ LinReg90             0.01  (400, 1000)         5     0.0   MVG          5            2.06185          1.90417           2.45363\n",
      "  33 │ LinReg126            0.01  (400, 1000)        20     0.0   MVG          5            2.08145          2.1166            2.13584\n",
      "  34 │ LinReg114            0.0   (400, 1000)        20     0.0   MVG          5            2.34115          2.24768           2.40718\n",
      "  35 │ LinReg108            0.01  (400, 1000)        10     0.0   MVG          5            2.55773          2.13862           3.00249\n",
      "  36 │ LinReg138            0.1   (400, 1000)        30     0.0   MVG          5            2.79006          2.68831           3.1576"
     ]
    }
   ],
   "source": [
    "sort!(df_big, [:summed_ks])\n",
    "print(df_big[map(x -> x[2], df_big.train_range) .== 1000,[\"name\", \"tracking_noise\", \"train_range\",\"hist_len\",\t\"lambda\", \"model_noise\",\"n_unstable\",\"summed_ks\", \"ks_best_replica\", \"ks_worst_replica\"]])"
   ]
  },
  {
   "cell_type": "code",
   "execution_count": 26,
   "metadata": {},
   "outputs": [
    {
     "name": "stdout",
     "output_type": "stream",
     "text": [
      "\u001b[1m36×10 DataFrame\u001b[0m\n",
      "\u001b[1m Row \u001b[0m│\u001b[1m name      \u001b[0m\u001b[1m tracking_noise \u001b[0m\u001b[1m train_range \u001b[0m\u001b[1m hist_len \u001b[0m\u001b[1m lambda  \u001b[0m\u001b[1m model_noise \u001b[0m\u001b[1m n_unstable \u001b[0m\u001b[1m summed_ks  \u001b[0m\u001b[1m ks_best_replica \u001b[0m\u001b[1m ks_worst_replica \u001b[0m\n",
      "     │\u001b[90m String    \u001b[0m\u001b[90m Float64        \u001b[0m\u001b[90m Tuple…      \u001b[0m\u001b[90m Int64    \u001b[0m\u001b[90m Float64 \u001b[0m\u001b[90m Symbol      \u001b[0m\u001b[90m Any        \u001b[0m\u001b[90m Float64    \u001b[0m\u001b[90m Float64         \u001b[0m\u001b[90m Float64          \u001b[0m\n",
      "─────┼───────────────────────────────────────────────────────────────────────────────────────────────────────────────────────────────────\n",
      "   1 │ LinReg91             0.01  (400, 2000)         5     0.1   MVG          0             0.219655         0.259369          0.330192\n",
      "   2 │ LinReg89             0.01  (400, 2000)         5     0.0   MVG          1             0.324747         0.307192          0.585291\n",
      "   3 │ LinReg125            0.01  (400, 2000)        20     0.0   MVG          0             0.371931         0.347016          0.462538\n",
      "   4 │ LinReg143            0.01  (400, 2000)        30     0.0   MVG          0             0.372526         0.364666          0.448814\n",
      "   5 │ LinReg131            0.0   (400, 2000)        30     0.0   MVG          0             0.387395         0.359041          0.508837\n",
      "   6 │ LinReg135            0.0   (400, 2000)        30     0.01  MVG          0             0.431614         0.345141          0.537587\n",
      "   7 │ LinReg137            0.1   (400, 2000)        30     0.0   MVG          0             0.445624         0.417865          0.505012\n",
      "   8 │ LinReg129            0.01  (400, 2000)        20     0.01  MVG          0             0.452749         0.434014          0.544211\n",
      "   9 │ LinReg107            0.01  (400, 2000)        10     0.0   MVG          0             0.453764         0.41494           0.579061\n",
      "  10 │ LinReg115            0.0   (400, 2000)        20     0.1   MVG          0             0.467623         0.403565          0.689583\n",
      "  11 │ LinReg105            0.1   (400, 2000)        10     0.01  MVG          0             0.496683         0.424439          0.625909\n",
      "  12 │ LinReg103            0.1   (400, 2000)        10     0.1   MVG          0             0.503312         0.41939           0.757006\n",
      "  13 │ LinReg123            0.1   (400, 2000)        20     0.01  MVG          0             0.529497         0.454414          0.594535\n",
      "  14 │ LinReg117            0.0   (400, 2000)        20     0.01  MVG          0             0.535507         0.521487          0.59566\n",
      "  15 │ LinReg119            0.1   (400, 2000)        20     0.0   MVG          4             0.539339         0.467038          0.663835\n",
      "  16 │ LinReg121            0.1   (400, 2000)        20     0.1   MVG          0             0.550546         0.471438          0.648309\n",
      "  17 │ LinReg85             0.1   (400, 2000)         5     0.1   MVG          0             0.573281         0.470763          0.826354\n",
      "  18 │ LinReg127            0.01  (400, 2000)        20     0.1   MVG          0             0.581765         0.435914          0.694883\n",
      "  19 │ LinReg87             0.1   (400, 2000)         5     0.01  MVG          0             0.60268          0.533937          0.661633\n",
      "  20 │ LinReg109            0.01  (400, 2000)        10     0.1   MVG          0             0.603795         0.582385          0.669158\n",
      "  21 │ LinReg111            0.01  (400, 2000)        10     0.01  MVG          0             0.627769         0.530037          0.722832\n",
      "  22 │ LinReg145            0.01  (400, 2000)        30     0.1   MVG          0             0.660948         0.574261          0.830904\n",
      "  23 │ LinReg139            0.1   (400, 2000)        30     0.1   MVG          0             0.744941         0.697733          0.800355\n",
      "  24 │ LinReg147            0.01  (400, 2000)        30     0.01  MVG          0             0.747831         0.686633          0.874278\n",
      "  25 │ LinReg133            0.0   (400, 2000)        30     0.1   MVG          0             0.752566         0.686583          0.805955\n",
      "  26 │ LinReg141            0.1   (400, 2000)        30     0.01  MVG          0             0.777266         0.699058          0.848854\n",
      "  27 │ LinReg77             0.0   (400, 2000)         5     0.0   MVG          0             0.78831          0.677683          1.01657\n",
      "  28 │ LinReg79             0.0   (400, 2000)         5     0.1   MVG          0             0.78999          0.721557          0.851404\n",
      "  29 │ LinReg95             0.0   (400, 2000)        10     0.0   MVG          0             0.79024          0.685558          0.98945\n",
      "  30 │ LinReg81             0.0   (400, 2000)         5     0.01  MVG          0             0.796165         0.78053           0.825079\n",
      "  31 │ LinReg99             0.0   (400, 2000)        10     0.01  MVG          0             0.826924         0.728782          0.960801\n",
      "  32 │ LinReg97             0.0   (400, 2000)        10     0.1   MVG          0             0.842834         0.796155          0.942476\n",
      "  33 │ LinReg83             0.1   (400, 2000)         5     0.0   MVG          5             1.19899          1.24447           1.72931\n",
      "  34 │ LinReg101            0.1   (400, 2000)        10     0.0   MVG          5             1.42691          1.33467           1.67491\n",
      "  35 │ LinReg93             0.01  (400, 2000)         5     0.01  MVG          5           NaN              NaN               NaN\n",
      "  36 │ LinReg113            0.0   (400, 2000)        20     0.0   MVG          5           NaN              NaN               NaN"
     ]
    }
   ],
   "source": [
    "sort!(df_big, [:summed_ks])\n",
    "print(df_big[map(x -> x[2], df_big.train_range) .== 2000,[\"name\", \"tracking_noise\", \"train_range\",\"hist_len\",\t\"lambda\", \"model_noise\",\"n_unstable\",\"summed_ks\", \"ks_best_replica\", \"ks_worst_replica\"]])"
   ]
  },
  {
   "cell_type": "code",
   "execution_count": 106,
   "metadata": {},
   "outputs": [],
   "source": []
  },
  {
   "cell_type": "code",
   "execution_count": 119,
   "metadata": {},
   "outputs": [
    {
     "data": {
      "text/plain": [
       "CairoMakie.Screen{IMAGE}\n"
      ]
     },
     "metadata": {},
     "output_type": "display_data"
    }
   ],
   "source": [
    "x = df_big[df_big.tracking_noise .== 0.0, :]\n",
    "x = x[x.model_noise .== :MVG, :]\n",
    "#print(x[!,[\"name\", \"tracking_noise\",\t\"hist_len\",\t\"lambda\", \"model_noise\",\"n_unstable\",\"summed_ks\", \"ks_best_replica\", \"ks_worst_replica\"]])\n",
    "x_0 = x[x.lambda .== 0.0, :]\n",
    "x_01 = x[x.lambda .== 0.01, :]\n",
    "\n",
    "fig = Figure()\n",
    "a = Axis(fig[1, 1])\n",
    "x0_unstable = x_0[x_0.n_unstable .>= 1, :]\n",
    "scatter!(x0_unstable.hist_len, x0_unstable.summed_ks; color = :blue, label= \"contains unstable\", markersize = 20, marker = 'X')\n",
    "x01_unstable = x_01[x_01.n_unstable .>= 1, :]\n",
    "scatter!(x01_unstable.hist_len.+0.3, x01_unstable.summed_ks; color = :green, label= \"contains unstable\", markersize = 20, marker = 'X')\n",
    "rangebars!(x_0.hist_len, x_0.ks_worst_replica, x_0.ks_best_replica; color = :blue, label= \"λ = 0, range\") \n",
    "scatter!(x_0.hist_len, x_0.summed_ks; color = :blue, label= \"λ = 0, ensemble\")\n",
    "rangebars!(x_01.hist_len.+0.3, x_01.ks_worst_replica, x_01.ks_best_replica; color = :green, label= \"λ = 0.01, range\") \n",
    "scatter!(x_01.hist_len.+0.3, x_01.summed_ks; color = :green, label= \"λ = 0.01, ensemble\")\n",
    "\n",
    "\n",
    "\n",
    "axislegend(a)\n",
    "a.ylabel=\"Summed KS-distance\"\n",
    "a.xlabel=\"History length\"\n",
    "\n",
    "fig\n",
    "save(@__DIR__()*\"/../output/figures_paper/linregs/history_length_notracknoise.pdf\", fig)\n",
    "save(@__DIR__()*\"/../output/figures_paper/linregs/history_length_notracknoise.png\", fig)"
   ]
  },
  {
   "cell_type": "code",
   "execution_count": 107,
   "metadata": {},
   "outputs": [
    {
     "name": "stdout",
     "output_type": "stream",
     "text": [
      "\u001b[1m16×9 DataFrame\u001b[0m\n",
      "\u001b[1m Row \u001b[0m│\u001b[1m name     \u001b[0m\u001b[1m tracking_noise \u001b[0m\u001b[1m hist_len \u001b[0m\u001b[1m lambda  \u001b[0m\u001b[1m model_noise \u001b[0m\u001b[1m n_unstable \u001b[0m\u001b[1m summed_ks  \u001b[0m\u001b[1m ks_best_replica \u001b[0m\u001b[1m ks_worst_replica \u001b[0m\n",
      "     │\u001b[90m String   \u001b[0m\u001b[90m Float64        \u001b[0m\u001b[90m Int64    \u001b[0m\u001b[90m Float64 \u001b[0m\u001b[90m Symbol      \u001b[0m\u001b[90m Any        \u001b[0m\u001b[90m Float64    \u001b[0m\u001b[90m Float64         \u001b[0m\u001b[90m Float64          \u001b[0m\n",
      "─────┼─────────────────────────────────────────────────────────────────────────────────────────────────────────────────────\n",
      "   1 │ LinReg68             0.0        30      0.0  MVG          0             0.1938           0.165446          0.38449\n",
      "   2 │ LinReg64             0.0        10      0.0  MVG          0             0.197235         0.213045          0.39229\n",
      "   3 │ LinReg1              0.0         5      0.0  MVG          0             0.19812          0.141596          0.370516\n",
      "   4 │ LinReg72             0.0         7      0.0  MVG          0             0.20265          0.174546          0.331492\n",
      "   5 │ LinReg25             0.0        20      0.0  MVG          0             0.21629          0.169171          0.406965\n",
      "   6 │ LinReg62             0.0         8      0.0  MVG          0             0.233249         0.196745          0.361366\n",
      "   7 │ LinReg60             0.0         4      0.0  MVG          0             0.235894         0.203795          0.394065\n",
      "   8 │ LinReg70             0.0         6      0.0  MVG          0             0.249519         0.211195          0.346291\n",
      "   9 │ LinReg74             0.0        40      0.0  MVG          3             0.249894         0.280593          0.435689\n",
      "  10 │ LinReg66             0.0        25      0.0  MVG          0             0.258414         0.230094          0.345566\n",
      "  11 │ LinReg54             0.0         3      0.0  MVG          0             0.260293         0.20222           0.450714\n",
      "  12 │ LinReg52             0.0         1      0.0  MVG          0             0.347861         0.252819          0.509012\n",
      "  13 │ LinReg76             0.0        60      0.0  MVG          5             0.393333         0.403704          0.449886\n",
      "  14 │ LinReg50             0.0         0      0.0  MVG          5             0.438475         0.39805           1.29547\n",
      "  15 │ LinReg58             0.0        80      0.0  MVG          5             1.00306          0.822464          1.66849\n",
      "  16 │ LinReg56             0.0        50      0.0  MVG          5           NaN              NaN               NaN"
     ]
    }
   ],
   "source": [
    "print(x_0[!,[\"name\", \"tracking_noise\",\t\"hist_len\",\t\"lambda\", \"model_noise\",\"n_unstable\",\"summed_ks\", \"ks_best_replica\", \"ks_worst_replica\"]])"
   ]
  },
  {
   "cell_type": "code",
   "execution_count": 108,
   "metadata": {},
   "outputs": [
    {
     "name": "stdout",
     "output_type": "stream",
     "text": [
      "\u001b[1m16×9 DataFrame\u001b[0m\n",
      "\u001b[1m Row \u001b[0m│\u001b[1m name     \u001b[0m\u001b[1m tracking_noise \u001b[0m\u001b[1m hist_len \u001b[0m\u001b[1m lambda  \u001b[0m\u001b[1m model_noise \u001b[0m\u001b[1m n_unstable \u001b[0m\u001b[1m summed_ks \u001b[0m\u001b[1m ks_best_replica \u001b[0m\u001b[1m ks_worst_replica \u001b[0m\n",
      "     │\u001b[90m String   \u001b[0m\u001b[90m Float64        \u001b[0m\u001b[90m Int64    \u001b[0m\u001b[90m Float64 \u001b[0m\u001b[90m Symbol      \u001b[0m\u001b[90m Any        \u001b[0m\u001b[90m Float64   \u001b[0m\u001b[90m Float64         \u001b[0m\u001b[90m Float64          \u001b[0m\n",
      "─────┼────────────────────────────────────────────────────────────────────────────────────────────────────────────────────\n",
      "   1 │ LinReg69             0.0         6     0.01  MVG          0            0.188755         0.224169          0.335192\n",
      "   2 │ LinReg5              0.0         5     0.01  MVG          0            0.232814         0.175171          0.442689\n",
      "   3 │ LinReg29             0.0        20     0.01  MVG          0            0.355061         0.295993          0.482463\n",
      "   4 │ LinReg61             0.0         8     0.01  MVG          0            0.38857          0.313292          0.497938\n",
      "   5 │ LinReg71             0.0         7     0.01  MVG          0            0.414955         0.328142          0.526312\n",
      "   6 │ LinReg65             0.0        25     0.01  MVG          0            0.448954         0.417365          0.58246\n",
      "   7 │ LinReg63             0.0        10     0.01  MVG          0            0.465903         0.400365          0.579786\n",
      "   8 │ LinReg53             0.0         3     0.01  MVG          2            0.474144         0.295868          0.742556\n",
      "   9 │ LinReg59             0.0         4     0.01  MVG          2            0.493812         0.463838          1.09485\n",
      "  10 │ LinReg67             0.0        30     0.01  MVG          0            0.524112         0.546886          0.597335\n",
      "  11 │ LinReg75             0.0        60     0.01  MVG          0            0.559151         0.448164          0.754881\n",
      "  12 │ LinReg73             0.0        40     0.01  MVG          0            0.60335          0.471863          0.694308\n",
      "  13 │ LinReg49             0.0         0     0.01  MVG          5            0.756582         0.584644          1.00999\n",
      "  14 │ LinReg55             0.0        50     0.01  MVG          0            0.858169         0.743081          1.01542\n",
      "  15 │ LinReg57             0.0        80     0.01  MVG          0            0.995185         0.917952          1.04705\n",
      "  16 │ LinReg51             0.0         1     0.01  MVG          5            1.81989          1.51471           2.65703"
     ]
    }
   ],
   "source": [
    "print(x_01[!,[\"name\", \"tracking_noise\",\t\"hist_len\",\t\"lambda\", \"model_noise\",\"n_unstable\",\"summed_ks\", \"ks_best_replica\", \"ks_worst_replica\"]])"
   ]
  },
  {
   "cell_type": "code",
   "execution_count": null,
   "metadata": {},
   "outputs": [
    {
     "name": "stdout",
     "output_type": "stream",
     "text": [
      "name & tracking noise & hist len & lambda & model noise & summed ks & ks best replica & ks worst replica\\\\\n",
      "LinReg3 & 0.0 & 5 & 0.1 & MVG & 0.19 & 0.22 & 0.35\\\\\n",
      "LinReg1 & 0.0 & 5 & 0.0 & MVG & 0.20 & 0.14 & 0.37\\\\\n",
      "LinReg25 & 0.0 & 20 & 0.0 & MVG & 0.22 & 0.17 & 0.41\\\\\n",
      "LinReg5 & 0.0 & 5 & 0.01 & MVG & 0.23 & 0.18 & 0.44\\\\\n",
      "LinReg6 & 0.0 & 5 & 0.01 & no noise & 0.29 & 0.29 & 0.29\\\\\n",
      "LinReg22 & 0.01 & 5 & 0.01 & MVG & 0.30 & 0.28 & 0.43\\\\\n",
      "LinReg4 & 0.0 & 5 & 0.1 & no noise & 0.30 & 0.30 & 0.30\\\\\n",
      "LinReg7 & 0.1 & 5 & 0.0 & MVG & 0.34 & 0.30 & 0.41\\\\\n",
      "LinReg19 & 0.01 & 5 & 0.1 & MVG & 0.35 & 0.31 & 0.45\\\\\n",
      "LinReg29 & 0.0 & 20 & 0.01 & MVG & 0.36 & 0.30 & 0.48\\\\\n",
      "LinReg13 & 0.1 & 5 & 0.01 & MVG & 0.39 & 0.35 & 0.53\\\\\n",
      "LinReg31 & 0.1 & 20 & 0.0 & MVG & 0.41 & 0.38 & 0.45\\\\\n",
      "LinReg27 & 0.0 & 20 & 0.1 & MVG & 0.41 & 0.31 & 0.51\\\\\n",
      "LinReg10 & 0.1 & 5 & 0.1 & MVG & 0.41 & 0.34 & 0.51\\\\\n",
      "LinReg8 & 0.1 & 5 & 0.0 & tracking noise & 0.42 & 0.39 & 0.46\\\\\n",
      "LinReg37 & 0.1 & 20 & 0.01 & MVG & 0.42 & 0.42 & 0.49\\\\\n",
      "LinReg40 & 0.01 & 20 & 0.0 & MVG & 0.43 & 0.42 & 0.45\\\\\n",
      "LinReg14 & 0.1 & 5 & 0.01 & tracking noise & 0.45 & 0.41 & 0.55\\\\\n",
      "LinReg2 & 0.0 & 5 & 0.0 & no noise & 0.45 & 0.45 & 0.45\\\\\n",
      "LinReg11 & 0.1 & 5 & 0.1 & tracking noise & 0.45 & 0.40 & 0.64\\\\\n",
      "LinReg32 & 0.1 & 20 & 0.0 & tracking noise & 0.46 & 0.40 & 0.51\\\\\n",
      "LinReg16 & 0.01 & 5 & 0.0 & MVG & 0.48 & 0.37 & 0.72\\\\\n",
      "LinReg21 & 0.01 & 5 & 0.1 & no noise & 0.48 & 0.48 & 0.48\\\\\n",
      "LinReg30 & 0.0 & 20 & 0.01 & no noise & 0.49 & 0.49 & 0.49\\\\\n",
      "LinReg34 & 0.1 & 20 & 0.1 & MVG & 0.49 & 0.44 & 0.55\\\\\n",
      "LinReg28 & 0.0 & 20 & 0.1 & no noise & 0.50 & 0.50 & 0.50\\\\\n",
      "LinReg46 & 0.01 & 20 & 0.01 & MVG & 0.51 & 0.42 & 0.68\\\\\n",
      "LinReg43 & 0.01 & 20 & 0.1 & MVG & 0.52 & 0.39 & 0.63\\\\\n",
      "LinReg24 & 0.01 & 5 & 0.01 & no noise & 0.53 & 0.53 & 0.53\\\\\n",
      "LinReg41 & 0.01 & 20 & 0.0 & tracking noise & 0.54 & 0.48 & 0.60\\\\\n",
      "LinReg26 & 0.0 & 20 & 0.0 & no noise & 0.54 & 0.54 & 0.54\\\\\n",
      "LinReg48 & 0.01 & 20 & 0.01 & no noise & 0.55 & 0.55 & 0.55\\\\\n",
      "LinReg23 & 0.01 & 5 & 0.01 & tracking noise & 0.56 & 0.46 & 0.73\\\\\n",
      "LinReg18 & 0.01 & 5 & 0.0 & no noise & 0.60 & 0.60 & 0.60\\\\\n",
      "LinReg20 & 0.01 & 5 & 0.1 & tracking noise & 0.61 & 0.55 & 0.70\\\\\n",
      "LinReg38 & 0.1 & 20 & 0.01 & tracking noise & 0.63 & 0.60 & 0.70\\\\\n",
      "LinReg35 & 0.1 & 20 & 0.1 & tracking noise & 0.64 & 0.60 & 0.73\\\\\n",
      "LinReg44 & 0.01 & 20 & 0.1 & tracking noise & 0.65 & 0.54 & 0.71\\\\\n",
      "LinReg45 & 0.01 & 20 & 0.1 & no noise & 0.66 & 0.66 & 0.66\\\\\n",
      "LinReg17 & 0.01 & 5 & 0.0 & tracking noise & 0.67 & 0.63 & 0.80\\\\\n",
      "LinReg47 & 0.01 & 20 & 0.01 & tracking noise & 0.68 & 0.62 & 0.78\\\\\n",
      "LinReg42 & 0.01 & 20 & 0.0 & no noise & 0.70 & 0.70 & 0.70\\\\\n",
      "LinReg12 & 0.1 & 5 & 0.1 & no noise & 0.93 & 0.93 & 0.93\\\\\n",
      "LinReg33 & 0.1 & 20 & 0.0 & no noise & 0.94 & 0.94 & 0.94\\\\\n",
      "LinReg9 & 0.1 & 5 & 0.0 & no noise & 1.00 & 1.00 & 1.00\\\\\n",
      "LinReg15 & 0.1 & 5 & 0.01 & no noise & 1.13 & 1.13 & 1.13\\\\\n",
      "LinReg36 & 0.1 & 20 & 0.1 & no noise & 1.33 & 1.33 & 1.33\\\\\n",
      "LinReg39 & 0.1 & 20 & 0.01 & no noise & 1.50 & 1.50 & 1.50\\\\\n"
     ]
    }
   ],
   "source": [
    "using Printf\n",
    "#print latex table\n",
    "cols = [\"name\", \"tracking_noise\",\t\"hist_len\",\t\"lambda\", \"model_noise\",\"summed_ks\", \"ks_best_replica\", \"ks_worst_replica\"]\n",
    "for col in cols\n",
    "    if contains(string(col), '_')\n",
    "        print(replace(string(col), '_' => ' '))\n",
    "    else\n",
    "        print(string(col))\n",
    "    end\n",
    "    if col != cols[end]\n",
    "        print(\" & \")\n",
    "    else\n",
    "        println(\"\\\\\\\\\")\n",
    "    end\n",
    "end\n",
    "for i in 1:nrow(df)\n",
    "    for col in cols\n",
    "        if col in [\"summed_ks\", \"ks_best_replica\", \"ks_worst_replica\"]\n",
    "            @printf(\"%.2f\", df[i, col])\n",
    "        else\n",
    "            if contains(string(df[i, col]), '_')\n",
    "                print(replace(string(df[i, col]), '_' => ' '))\n",
    "            else\n",
    "                print(string(df[i, col]))\n",
    "            end\n",
    "        end\n",
    "        if col != \"ks_worst_replica\"\n",
    "            print(\" & \")\n",
    "        else\n",
    "            println(\"\\\\\\\\\")\n",
    "        end\n",
    "    end\n",
    "    \n",
    "end"
   ]
  },
  {
   "cell_type": "code",
   "execution_count": 39,
   "metadata": {},
   "outputs": [
    {
     "name": "stdout",
     "output_type": "stream",
     "text": [
      "\u001b[1m48×8 DataFrame\u001b[0m\n",
      "\u001b[1m Row \u001b[0m│\u001b[1m name     \u001b[0m\u001b[1m tracking_noise \u001b[0m\u001b[1m hist_len \u001b[0m\u001b[1m lambda  \u001b[0m\u001b[1m model_noise    \u001b[0m\u001b[1m summed_ks \u001b[0m\u001b[1m ks_best_replica \u001b[0m\u001b[1m ks_worst_replica \u001b[0m\n",
      "     │\u001b[90m String   \u001b[0m\u001b[90m Float64        \u001b[0m\u001b[90m Int64    \u001b[0m\u001b[90m Float64 \u001b[0m\u001b[90m Symbol         \u001b[0m\u001b[90m Float64   \u001b[0m\u001b[90m Float64         \u001b[0m\u001b[90m Float64          \u001b[0m\n",
      "─────┼───────────────────────────────────────────────────────────────────────────────────────────────────────────\n",
      "   1 │ LinReg1             0.0          5     0.0   MVG              0.19812          0.141596          0.370516\n",
      "   2 │ LinReg25            0.0         20     0.0   MVG              0.21629          0.169171          0.406965\n",
      "   3 │ LinReg5             0.0          5     0.01  MVG              0.232814         0.175171          0.442689\n",
      "   4 │ LinReg3             0.0          5     0.1   MVG              0.188315         0.215495          0.352016\n",
      "   5 │ LinReg22            0.01         5     0.01  MVG              0.298098         0.278918          0.433639\n",
      "   6 │ LinReg6             0.0          5     0.01  no_noise         0.286743         0.286743          0.286743\n",
      "   7 │ LinReg29            0.0         20     0.01  MVG              0.355061         0.295993          0.482463\n",
      "   8 │ LinReg7             0.1          5     0.0   MVG              0.337672         0.297643          0.41129\n",
      "   9 │ LinReg4             0.0          5     0.1   no_noise         0.298518         0.298518          0.298518\n",
      "  10 │ LinReg27            0.0         20     0.1   MVG              0.40613          0.310992          0.505662\n",
      "  11 │ LinReg19            0.01         5     0.1   MVG              0.354646         0.312467          0.454789\n",
      "  12 │ LinReg10            0.1          5     0.1   MVG              0.40777          0.343241          0.513462\n",
      "  13 │ LinReg13            0.1          5     0.01  MVG              0.39336          0.346016          0.530537\n",
      "  14 │ LinReg16            0.01         5     0.0   MVG              0.479583         0.372916          0.716282\n",
      "  15 │ LinReg31            0.1         20     0.0   MVG              0.405525         0.377116          0.451264\n",
      "  16 │ LinReg43            0.01        20     0.1   MVG              0.522232         0.385065          0.629984\n",
      "  17 │ LinReg8             0.1          5     0.0   tracking_noise   0.418935         0.392515          0.461463\n",
      "  18 │ LinReg11            0.1          5     0.1   tracking_noise   0.452939         0.398815          0.644209\n",
      "  19 │ LinReg32            0.1         20     0.0   tracking_noise   0.460738         0.40189           0.511437\n",
      "  20 │ LinReg14            0.1          5     0.01  tracking_noise   0.446389         0.407465          0.545561\n",
      "  21 │ LinReg46            0.01        20     0.01  MVG              0.505227         0.417115          0.682258\n",
      "  22 │ LinReg40            0.01        20     0.0   MVG              0.425249         0.417515          0.451164\n",
      "  23 │ LinReg37            0.1         20     0.01  MVG              0.424259         0.417665          0.486563\n",
      "  24 │ LinReg34            0.1         20     0.1   MVG              0.489813         0.442214          0.551236\n",
      "  25 │ LinReg2             0.0          5     0.0   no_noise         0.450514         0.450514          0.450514\n",
      "  26 │ LinReg23            0.01         5     0.01  tracking_noise   0.563246         0.463163          0.730532\n",
      "  27 │ LinReg41            0.01        20     0.0   tracking_noise   0.538397         0.481313          0.59676\n",
      "  28 │ LinReg21            0.01         5     0.1   no_noise         0.481988         0.481988          0.481988\n",
      "  29 │ LinReg30            0.0         20     0.01  no_noise         0.486063         0.486063          0.486063\n",
      "  30 │ LinReg28            0.0         20     0.1   no_noise         0.498488         0.498488          0.498488\n",
      "  31 │ LinReg24            0.01         5     0.01  no_noise         0.533637         0.533637          0.533637\n",
      "  32 │ LinReg44            0.01        20     0.1   tracking_noise   0.648279         0.542886          0.710482\n",
      "  33 │ LinReg26            0.0         20     0.0   no_noise         0.544286         0.544286          0.544286\n",
      "  34 │ LinReg20            0.01         5     0.1   tracking_noise   0.61465          0.546461          0.695658\n",
      "  35 │ LinReg48            0.01        20     0.01  no_noise         0.553186         0.553186          0.553186\n",
      "  36 │ LinReg18            0.01         5     0.0   no_noise         0.60206          0.60206           0.60206\n",
      "  37 │ LinReg38            0.1         20     0.01  tracking_noise   0.629349         0.603435          0.697283\n",
      "  38 │ LinReg35            0.1         20     0.1   tracking_noise   0.641549         0.604435          0.734582\n",
      "  39 │ LinReg47            0.01        20     0.01  tracking_noise   0.684418         0.61926           0.775356\n",
      "  40 │ LinReg17            0.01         5     0.0   tracking_noise   0.673898         0.634959          0.79583\n",
      "  41 │ LinReg45            0.01        20     0.1   no_noise         0.663433         0.663433          0.663433\n",
      "  42 │ LinReg42            0.01        20     0.0   no_noise         0.700632         0.700632          0.700632\n",
      "  43 │ LinReg12            0.1          5     0.1   no_noise         0.929727         0.929727          0.929727\n",
      "  44 │ LinReg33            0.1         20     0.0   no_noise         0.935027         0.935027          0.935027\n",
      "  45 │ LinReg9             0.1          5     0.0   no_noise         0.995925         0.995925          0.995925\n",
      "  46 │ LinReg15            0.1          5     0.01  no_noise         1.13437          1.13437           1.13437\n",
      "  47 │ LinReg36            0.1         20     0.1   no_noise         1.32804          1.32804           1.32804\n",
      "  48 │ LinReg39            0.1         20     0.01  no_noise         1.49929          1.49929           1.49929"
     ]
    }
   ],
   "source": [
    "sort!(df, [:ks_best_replica])\n",
    "print(df[!,[\"name\", \"tracking_noise\",\t\"hist_len\",\t\"lambda\", \"model_noise\",\"summed_ks\", \"ks_best_replica\", \"ks_worst_replica\"]])"
   ]
  },
  {
   "cell_type": "code",
   "execution_count": null,
   "metadata": {},
   "outputs": [],
   "source": []
  }
 ],
 "metadata": {
  "kernelspec": {
   "display_name": "Julia 1.11.2",
   "language": "julia",
   "name": "julia-1.11"
  },
  "language_info": {
   "file_extension": ".jl",
   "mimetype": "application/julia",
   "name": "julia",
   "version": "1.11.2"
  }
 },
 "nbformat": 4,
 "nbformat_minor": 2
}
